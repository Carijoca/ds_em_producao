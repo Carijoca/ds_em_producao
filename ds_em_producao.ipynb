{
 "cells": [
  {
   "cell_type": "markdown",
   "id": "d72827d1",
   "metadata": {},
   "source": [
    "0.0 IMPORTS"
   ]
  },
  {
   "cell_type": "markdown",
   "id": "578858b9",
   "metadata": {},
   "source": [
    "0.1 Help Functions"
   ]
  },
  {
   "cell_type": "markdown",
   "id": "92c24b69",
   "metadata": {},
   "source": [
    "0.2 Loading data"
   ]
  },
  {
   "cell_type": "code",
   "execution_count": null,
   "id": "ef54288a",
   "metadata": {},
   "outputs": [],
   "source": [
    "df_sales_raw = read.csv"
   ]
  },
  {
   "cell_type": "markdown",
   "id": "e2031ae6",
   "metadata": {},
   "source": [
    "1.0 DESCRICAO DOS DADOS"
   ]
  },
  {
   "cell_type": "markdown",
   "id": "4364e0c6",
   "metadata": {},
   "source": [
    "1.1"
   ]
  }
 ],
 "metadata": {
  "kernelspec": {
   "display_name": "Python 3 (ipykernel)",
   "language": "python",
   "name": "python3"
  },
  "language_info": {
   "codemirror_mode": {
    "name": "ipython",
    "version": 3
   },
   "file_extension": ".py",
   "mimetype": "text/x-python",
   "name": "python",
   "nbconvert_exporter": "python",
   "pygments_lexer": "ipython3",
   "version": "3.9.16"
  }
 },
 "nbformat": 4,
 "nbformat_minor": 5
}
